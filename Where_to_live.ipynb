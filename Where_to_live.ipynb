{
 "cells": [
  {
   "cell_type": "markdown",
   "metadata": {},
   "source": [
    "# Where to live? Optimising commute time\n",
    "\n",
    "--- "
   ]
  },
  {
   "cell_type": "code",
   "execution_count": 4,
   "metadata": {},
   "outputs": [],
   "source": [
    "import googlemaps\n",
    "from datetime import datetime\n",
    "from dateutil import parser\n",
    "import numpy as np\n",
    "import pandas as pd\n",
    "import os\n",
    "import geopy # pip install geopy"
   ]
  },
  {
   "cell_type": "code",
   "execution_count": 5,
   "metadata": {},
   "outputs": [],
   "source": [
    "# store API key in the MacOS Keychain (optional)\n",
    "\n",
    "import keyring\n",
    "\n",
    "#keyring.set_password(\"googlemaps.api\", \"kmisiunas\", \"your_google_maps_API_key\")\n",
    "api_key = keyring.get_password(\"googlemaps.api\", \"kmisiunas\")\n",
    "# or\n",
    "# api_key = \"your_google_maps_API_key\"\n",
    "\n",
    "gmaps = googlemaps.Client(key=api_key)\n"
   ]
  },
  {
   "cell_type": "code",
   "execution_count": 3,
   "metadata": {},
   "outputs": [],
   "source": [
    "def _parse_row_in_distance_matrix(x):\n",
    "    \":return: [distance, time] and [NaN,NaN] if invalid\"\n",
    "    if x['elements'][0]['status'] == 'OK':\n",
    "        return [ x['elements'][0]['distance']['value'], x['elements'][0]['duration']['value'] ] \n",
    "    else:\n",
    "        return [np.nan, np.nan]\n",
    "\n",
    "    \n",
    "def _parse_distance_matrix(x):\n",
    "    \":return: [[distance, time]...]\"\n",
    "    return list( map( _parse_row_in_distance_matrix, x['rows'] ))\n",
    "\n",
    "\n",
    "def measure_times(origins, destinations, date = \"2018-12-18\"):\n",
    "    \"\"\"\n",
    "    Measure distance and time for travelling in public transport to work\n",
    "    \n",
    "    Sample twice in the morning at 9am and 8:30am and report the shortest time. \n",
    "    This should remove some of the randomeness in wrong starting time.\n",
    "    \n",
    "    :param pos: startiong position for travel\n",
    "    \"\"\"\n",
    "    times = [\"09:00:00+01\", \"08:30:00+01\"]\n",
    "    \n",
    "    res = []\n",
    "    \n",
    "    for t in times:\n",
    "        distance = gmaps.distance_matrix(\n",
    "            origins = origins,\n",
    "            destinations = destinations,\n",
    "            mode = \"bicycling\",  # \"transit\" or \"bicycling\"\n",
    "            units = \"metric\",\n",
    "            arrival_time = parser.parse(date + \"T\" + t),  \n",
    "        )\n",
    "        res.append(_parse_distance_matrix(distance))\n",
    "        \n",
    "    return np.apply_along_axis(arr=np.array(res), axis=0, func1d=np.min)\n",
    "    \n",
    "    "
   ]
  },
  {
   "cell_type": "code",
   "execution_count": 99,
   "metadata": {},
   "outputs": [],
   "source": [
    "y = measure_times([test_loc, test_loc_2, test_loc_3], start_loc)"
   ]
  },
  {
   "cell_type": "code",
   "execution_count": 109,
   "metadata": {},
   "outputs": [
    {
     "data": {
      "text/html": [
       "<div>\n",
       "<style scoped>\n",
       "    .dataframe tbody tr th:only-of-type {\n",
       "        vertical-align: middle;\n",
       "    }\n",
       "\n",
       "    .dataframe tbody tr th {\n",
       "        vertical-align: top;\n",
       "    }\n",
       "\n",
       "    .dataframe thead th {\n",
       "        text-align: right;\n",
       "    }\n",
       "</style>\n",
       "<table border=\"1\" class=\"dataframe\">\n",
       "  <thead>\n",
       "    <tr style=\"text-align: right;\">\n",
       "      <th></th>\n",
       "      <th>distance</th>\n",
       "      <th>lat</th>\n",
       "      <th>lon</th>\n",
       "      <th>time</th>\n",
       "    </tr>\n",
       "  </thead>\n",
       "  <tbody>\n",
       "    <tr>\n",
       "      <th>0</th>\n",
       "      <td>8530</td>\n",
       "      <td>8.481839</td>\n",
       "      <td>47.399423</td>\n",
       "      <td>42.333333</td>\n",
       "    </tr>\n",
       "    <tr>\n",
       "      <th>1</th>\n",
       "      <td>4738</td>\n",
       "      <td>8.491839</td>\n",
       "      <td>47.389423</td>\n",
       "      <td>27.100000</td>\n",
       "    </tr>\n",
       "    <tr>\n",
       "      <th>2</th>\n",
       "      <td>23110</td>\n",
       "      <td>8.491839</td>\n",
       "      <td>47.504233</td>\n",
       "      <td>56.183333</td>\n",
       "    </tr>\n",
       "  </tbody>\n",
       "</table>\n",
       "</div>"
      ],
      "text/plain": [
       "   distance       lat        lon       time\n",
       "0      8530  8.481839  47.399423  42.333333\n",
       "1      4738  8.491839  47.389423  27.100000\n",
       "2     23110  8.491839  47.504233  56.183333"
      ]
     },
     "execution_count": 109,
     "metadata": {},
     "output_type": "execute_result"
    }
   ],
   "source": [
    "# testing\n",
    "\n",
    "test_loc_1 = (47.3994233, 8.4818392)\n",
    "test_loc_2 = (47.3894233, 8.4918392)\n",
    "test_loc_3 = (47.504233, 8.4918392)\n",
    "\n",
    "pd.DataFrame(\n",
    "    measure_times_dict([test_loc_1, test_loc_2, test_loc_3], start_loc)\n",
    ")"
   ]
  },
  {
   "cell_type": "markdown",
   "metadata": {},
   "source": [
    "---\n",
    "\n",
    "# Create grid"
   ]
  },
  {
   "cell_type": "code",
   "execution_count": 4,
   "metadata": {},
   "outputs": [
    {
     "name": "stdout",
     "output_type": "stream",
     "text": [
      "Job location: (47.3653139, 8.524474699999999)\n"
     ]
    }
   ],
   "source": [
    "def parse_coordinates(res):\n",
    "    tmp = res[0]['geometry']['location']\n",
    "    return (tmp['lat'], tmp['lng'])\n",
    "\n",
    "job_loc = parse_coordinates( gmaps.geocode(\"Google Building 110, Brandschenkestrasse 110, 8002 Zürich\") )\n",
    "print(\"Job location:\", job_loc)"
   ]
  },
  {
   "cell_type": "code",
   "execution_count": 63,
   "metadata": {},
   "outputs": [],
   "source": [
    "def _contains_not(df, lon, lat):\n",
    "    return df.query('@lon - 0.0001 <= lon and @lon + 0.0001 >= lon and @lat - 0.0001 <= lat and @lat + 0.0001 >= lat').empty\n",
    "\n",
    "\n",
    "def measure_times_dict(origins, destination):\n",
    "    out = []\n",
    "    for pos, dist_time in zip(origins, measure_times(origins, destination)):\n",
    "        row = {\"lon\": pos[0], \"lat\": pos[1], \"distance\": dist_time[0], \"time\": dist_time[1]/60.0 }\n",
    "        out.append( row )\n",
    "    return out\n",
    "\n",
    "\n",
    "def fill_values(destination, coordinates, file, filter_existing=True):\n",
    "    df = None\n",
    "    if os.path.isfile(file):\n",
    "        df = pd.read_csv(file, index_col=0)\n",
    "    else:\n",
    "        df = pd.DataFrame(columns=['lon', 'lat', 'distance', 'time'])\n",
    "    \n",
    "    if filter_existing:\n",
    "        coordinates = list(filter(lambda x: _contains_not(df, x[0], x[1]), coordinates))\n",
    "        print(\"Elements to query:\", len(coordinates))\n",
    "    \n",
    "    if len(coordinates) == 0:\n",
    "        return df\n",
    "    \n",
    "    for i in range(int( np.ceil(len(coordinates)/60) )):\n",
    "        range_min, range_max = i*60, min(len(coordinates), (i+1)*60)\n",
    "        add = measure_times_dict(coordinates[range_min: range_max], destination)\n",
    "        df = df.append( add )\n",
    "        df.to_csv(file) # backup\n",
    "        \n",
    "    return df\n",
    "    "
   ]
  },
  {
   "cell_type": "code",
   "execution_count": 207,
   "metadata": {},
   "outputs": [
    {
     "name": "stdout",
     "output_type": "stream",
     "text": [
      "[0, 1, 2, 3, 4, 5, 6, 7, 8, 9, 10, 11, 12, 13, 14, 15, 16, 17, 18, 19]\n",
      "[20, 21]\n"
     ]
    }
   ],
   "source": [
    "l = 22\n",
    "for i in range(int( np.ceil(l/20) )):\n",
    "    range_min, range_max = i*20, min(l, (i+1)*20)\n",
    "    print( list(range(l))[range_min: range_max] )\n",
    "    "
   ]
  },
  {
   "cell_type": "code",
   "execution_count": 213,
   "metadata": {},
   "outputs": [
    {
     "name": "stdout",
     "output_type": "stream",
     "text": [
      "1 meter in lon is 9.08350160565509e-06 , and in lat is 8.983152841195214e-06 [deg/meter]\n"
     ]
    }
   ],
   "source": [
    "# calculate the distance of 1 meter in lon/lat\n",
    "# do not change it since want to avaoid small changes in positions \n",
    "\n",
    "earth_R = 6378137\n",
    "dLon = 1.0/(earth_R * np.cos(job_loc[1] *np.pi/180)) * 180/np.pi\n",
    "dLat = 1.0/earth_R * 180/np.pi\n",
    "print(\"1 meter in lon is\", dLon, \", and in lat is\", dLat, \"[deg/meter]\")\n",
    "\n",
    "def grid_gen(center, elements, spacing):\n",
    "    assert elements[0] % 2 == 1 and elements[1] % 2 == 1\n",
    "    out = []\n",
    "    \n",
    "    for j in range(-elements[0]//2+1 , elements[0]//2+1):\n",
    "        for i in range(-elements[1]//2+1 , elements[1]//2+1):\n",
    "            out.append( (center[0] + i*dLon*spacing, center[1] + j*dLat*spacing ) )\n",
    "    \n",
    "    return out\n",
    "\n",
    "\n",
    "#tmp = grid_gen(job_loc, (21,21),  1000)\n",
    "#pd.DataFrame(tmp).to_csv(\"/Users/kmisiunas/Downloads/test.csv\")"
   ]
  },
  {
   "cell_type": "code",
   "execution_count": 222,
   "metadata": {},
   "outputs": [
    {
     "name": "stdout",
     "output_type": "stream",
     "text": [
      "Elements to query: 1224\n"
     ]
    },
    {
     "name": "stderr",
     "output_type": "stream",
     "text": [
      "/Users/kmisiunas/conda/lib/python3.6/site-packages/numpy/core/fromnumeric.py:83: RuntimeWarning: invalid value encountered in reduce\n",
      "  return ufunc.reduce(obj, axis, dtype, out, **passkwargs)\n"
     ]
    }
   ],
   "source": [
    "# for public transport  \n",
    "\n",
    "grid = grid_gen(job_loc, (41,41),  250)\n",
    "grid = grid_gen( (47.383480903211314, 8.515491547158804), (41,41),  125)\n",
    "data = fill_values(job_loc, grid, \"where_to_live_for_google_zurich_public.csv\")"
   ]
  },
  {
   "cell_type": "code",
   "execution_count": 225,
   "metadata": {},
   "outputs": [
    {
     "name": "stdout",
     "output_type": "stream",
     "text": [
      "Elements to query: 1240\n"
     ]
    },
    {
     "name": "stderr",
     "output_type": "stream",
     "text": [
      "/Users/kmisiunas/conda/lib/python3.6/site-packages/numpy/core/fromnumeric.py:83: RuntimeWarning: invalid value encountered in reduce\n",
      "  return ufunc.reduce(obj, axis, dtype, out, **passkwargs)\n"
     ]
    }
   ],
   "source": [
    "# same for cycling\n",
    "\n",
    "grid = grid_gen(job_loc, (41,41),  500)\n",
    "#grid = grid_gen( (47.383480903211314, 8.515491547158804), (41,41),  125)\n",
    "data = fill_values(job_loc, grid, \"where_to_live_for_google_zurich_cycling.csv\")"
   ]
  },
  {
   "cell_type": "markdown",
   "metadata": {},
   "source": [
    "--- \n",
    "\n",
    "# Coming back home"
   ]
  },
  {
   "cell_type": "code",
   "execution_count": 82,
   "metadata": {},
   "outputs": [],
   "source": [
    "# adaptation for comming back time\n",
    "\n",
    "# different rows must be taken\n",
    "def _parse_row_in_distance_matrix(x):\n",
    "    \":return: [distance, time] and [NaN,NaN] if invalid\"\n",
    "    if x['status'] == 'OK':\n",
    "        return [ x['distance']['value'], x['duration']['value'] ] \n",
    "    else:\n",
    "        return [np.nan, np.nan]\n",
    "\n",
    "    \n",
    "def _parse_distance_matrix(x):\n",
    "    \":return: [[distance, time]...]\"\n",
    "    return list( map( _parse_row_in_distance_matrix, x['rows'][0][\"elements\"] ))\n",
    "\n",
    "\n",
    "def measure_times(origins, destinations, date = \"2019-01-13\"):\n",
    "    \"\"\"\n",
    "    Measure distance and time for travelling in public transport to work\n",
    "    \n",
    "    Sample twice in the morning at 9am and 8:30am and report the shortest time. \n",
    "    This should remove some of the randomeness in wrong starting time.\n",
    "    \n",
    "    :param pos: startiong position for travel\n",
    "    \"\"\"\n",
    "    times = [\"23:40:00+01\", \"23:55:00+01\"]\n",
    "    \n",
    "    res = []\n",
    "    \n",
    "    for t in times:\n",
    "        distance = gmaps.distance_matrix(\n",
    "            origins = destinations,\n",
    "            destinations = origins,\n",
    "            mode = \"transit\",  # \"transit\" or \"bicycling\"\n",
    "            units = \"metric\",\n",
    "            departure_time = parser.parse(date + \"T\" + t),  \n",
    "        )\n",
    "        res.append(_parse_distance_matrix(distance))\n",
    "        \n",
    "    return np.apply_along_axis(arr=np.array(res), axis=0, func1d=np.min)\n"
   ]
  },
  {
   "cell_type": "code",
   "execution_count": 84,
   "metadata": {},
   "outputs": [
    {
     "name": "stdout",
     "output_type": "stream",
     "text": [
      "city_center: (47.37840449999999, 8.538403299999999)\n",
      "Elements to query: 574\n"
     ]
    },
    {
     "name": "stderr",
     "output_type": "stream",
     "text": [
      "/Users/kmisiunas/conda/lib/python3.6/site-packages/numpy/core/fromnumeric.py:83: RuntimeWarning: invalid value encountered in reduce\n",
      "  return ufunc.reduce(obj, axis, dtype, out, **passkwargs)\n"
     ]
    }
   ],
   "source": [
    "city_center = parse_coordinates( gmaps.geocode(\"Zurich HB\") )\n",
    "print(\"city_center:\", city_center)\n",
    "\n",
    "grid = grid_gen( (47.378, 8.538), (55,41),  500)\n",
    "data = fill_values(city_center, grid, \"where_to_live_come_back_late.csv\")"
   ]
  },
  {
   "cell_type": "code",
   "execution_count": null,
   "metadata": {},
   "outputs": [],
   "source": []
  }
 ],
 "metadata": {
  "kernelspec": {
   "display_name": "Python 3",
   "language": "python",
   "name": "python3"
  },
  "language_info": {
   "codemirror_mode": {
    "name": "ipython",
    "version": 3
   },
   "file_extension": ".py",
   "mimetype": "text/x-python",
   "name": "python",
   "nbconvert_exporter": "python",
   "pygments_lexer": "ipython3",
   "version": "3.6.6"
  }
 },
 "nbformat": 4,
 "nbformat_minor": 2
}
